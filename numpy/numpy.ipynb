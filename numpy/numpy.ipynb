{
 "cells": [
  {
   "cell_type": "code",
   "execution_count": 141,
   "metadata": {},
   "outputs": [],
   "source": [
    "import numpy as np"
   ]
  },
  {
   "cell_type": "code",
   "execution_count": 142,
   "metadata": {},
   "outputs": [],
   "source": [
    "my_list = [1,2,3,4,5]\n",
    "my_array = np.array(my_list)"
   ]
  },
  {
   "cell_type": "code",
   "execution_count": 143,
   "metadata": {},
   "outputs": [
    {
     "name": "stdout",
     "output_type": "stream",
     "text": [
      "Numpy Array:  [1 2 3 4 5]\n",
      "Type:  <class 'numpy.ndarray'>\n"
     ]
    }
   ],
   "source": [
    "print(\"Numpy Array: \", my_array)\n",
    "print(\"Type: \", type(my_array))"
   ]
  },
  {
   "cell_type": "code",
   "execution_count": 144,
   "metadata": {},
   "outputs": [
    {
     "name": "stdout",
     "output_type": "stream",
     "text": [
      "(5,)\n",
      "int64\n"
     ]
    }
   ],
   "source": [
    "#shape \n",
    "print(my_array.shape)\n",
    "#datatype\n",
    "print(my_array.dtype)"
   ]
  },
  {
   "cell_type": "code",
   "execution_count": 145,
   "metadata": {},
   "outputs": [],
   "source": [
    "py_list = [1,2,3,4,5]\n",
    "\n",
    "np_array = np.array([1,2,3,4,5])\n"
   ]
  },
  {
   "cell_type": "code",
   "execution_count": 146,
   "metadata": {},
   "outputs": [
    {
     "name": "stdout",
     "output_type": "stream",
     "text": [
      "List addition:  [2, 3, 4, 5, 6]\n",
      "Array addition:  [array([2, 3, 4, 5, 6])]\n"
     ]
    }
   ],
   "source": [
    "print(\"List addition: \", [x + 1 for x in py_list])\n",
    "print(\"Array addition: \", [np_array + 1])\n"
   ]
  },
  {
   "cell_type": "code",
   "execution_count": 147,
   "metadata": {},
   "outputs": [
    {
     "name": "stdout",
     "output_type": "stream",
     "text": [
      "Original Array:  [ 0  1  2  3  4  5  6  7  8  9 10]\n",
      "Doubled Array:  [ 0  2  4  6  8 10 12 14 16 18 20]\n",
      "Sum of Elements:  55\n"
     ]
    }
   ],
   "source": [
    "numbers = np.arange(11)\n",
    "doubled = numbers * 2\n",
    "total = np.sum(numbers)\n",
    "\n",
    "print(\"Original Array: \", numbers)\n",
    "print(\"Doubled Array: \", doubled)\n",
    "print(\"Sum of Elements: \", total)"
   ]
  },
  {
   "cell_type": "code",
   "execution_count": 148,
   "metadata": {},
   "outputs": [
    {
     "name": "stdout",
     "output_type": "stream",
     "text": [
      "Array of zeros [0. 0. 0. 0. 0.]\n",
      "Array of ones [1. 1. 1. 1. 1.]\n",
      "Array of numbers from 0, 6 [0 1 2 3 4 5 6]\n",
      "Linearly spaced numbers [0.   0.25 0.5  0.75 1.  ]\n"
     ]
    }
   ],
   "source": [
    "# basic functions to master...\n",
    "#np.zeros() , creates an array filled with zeros\n",
    "#np.ones(), creates an array filled with ones\n",
    "#np. arange(), generates a range of numbers\n",
    "#np.linspace(), generates numbers evenly spaced beween a start and stop value,\n",
    "\n",
    "print(\"Array of zeros\", np.zeros(5))\n",
    "print(\"Array of ones\", np.ones(5))\n",
    "print(\"Array of numbers from 0, 6\", np.arange(0, 7, 1))\n",
    "print(\"Linearly spaced numbers\", np.linspace(0, 1, 5))"
   ]
  },
  {
   "cell_type": "code",
   "execution_count": 149,
   "metadata": {},
   "outputs": [
    {
     "name": "stdout",
     "output_type": "stream",
     "text": [
      "[0.86922488 0.55717032 0.9620233  0.30872798 0.26640398 0.1663303 ]\n",
      "[84 86 70 71 85]\n",
      "[[1. 0. 0.]\n",
      " [0. 1. 0.]\n",
      " [0. 0. 1.]]\n"
     ]
    }
   ],
   "source": [
    "# advancedarray init\n",
    "\n",
    "#random array\n",
    "random_array = np.random.random(6)\n",
    "print(random_array)\n",
    "random_integers = np.random.randint(69, 96, size=5)\n",
    "print(random_integers)\n",
    "\n",
    "#identity matrix \n",
    "identity_matrix = np.eye(3)\n",
    "print(identity_matrix)\n",
    "\n",
    "\n"
   ]
  },
  {
   "cell_type": "code",
   "execution_count": 150,
   "metadata": {},
   "outputs": [
    {
     "name": "stdout",
     "output_type": "stream",
     "text": [
      "[[1 0 0]\n",
      " [0 2 0]\n",
      " [0 0 3]]\n"
     ]
    }
   ],
   "source": [
    "#diag_Matrix \n",
    "diag_matrix = np.diag([1,2,3])\n",
    "print(diag_matrix)"
   ]
  },
  {
   "cell_type": "code",
   "execution_count": 151,
   "metadata": {},
   "outputs": [
    {
     "name": "stdout",
     "output_type": "stream",
     "text": [
      "[1 2 3]\n",
      "<class 'numpy.int64'>\n"
     ]
    }
   ],
   "source": [
    "custom_dtype_array = np.array([1,2,3], dtype=np.int64)\n",
    "print(custom_dtype_array)\n",
    "print(type(custom_dtype_array[0]))"
   ]
  },
  {
   "cell_type": "code",
   "execution_count": 152,
   "metadata": {},
   "outputs": [
    {
     "name": "stdout",
     "output_type": "stream",
     "text": [
      "Shape: (5,)\n",
      "Size: 5\n",
      "Data Type: int64\n",
      "Dimension: 1\n",
      "First Element: 10\n",
      "Last Element: 50\n",
      "Sub-array: [30 40]\n",
      "Reversed Array: [50 40 30 20 10]\n",
      "Elements > 20: [30 40 50]\n",
      "Select Specific Indices [0, 2, 4]: [10 30 50]\n"
     ]
    }
   ],
   "source": [
    "# Create a sample array\n",
    "arr = np.array([10, 20, 30, 40, 50])\n",
    "\n",
    "# Basic Properties\n",
    "print(\"Shape:\", arr.shape)\n",
    "print(\"Size:\", arr.size)\n",
    "print(\"Data Type:\", arr.dtype)\n",
    "print(\"Dimension:\", arr.ndim)\n",
    "\n",
    "# Indexing and Slicing\n",
    "print(\"First Element:\", arr[0])       # Indexing\n",
    "print(\"Last Element:\", arr[-1])      # Negative Indexing\n",
    "print(\"Sub-array:\", arr[2:4])        # Slicing\n",
    "\n",
    "# Reverse an Array\n",
    "print(\"Reversed Array:\", arr[::-1])\n",
    "\n",
    "# Boolean Indexing\n",
    "print(\"Elements > 20:\", arr[arr > 20])\n",
    "\n",
    "# Fancy Indexing\n",
    "print(\"Select Specific Indices [0, 2, 4]:\", arr[[0, 2, 4]])\n"
   ]
  },
  {
   "cell_type": "code",
   "execution_count": 153,
   "metadata": {},
   "outputs": [
    {
     "name": "stdout",
     "output_type": "stream",
     "text": [
      "[77  3 41  6 49  0 93 63 56 29]\n",
      "[29 56 63 93  0 49  6 41  3 77]\n",
      "[ 6  0 56]\n"
     ]
    }
   ],
   "source": [
    "# practice task\n",
    "random_array = np.random.randint(0, 100, size=10)\n",
    "print(random_array)\n",
    "\n",
    "reversed_random_array = random_array[::-1]\n",
    "print(reversed_random_array)\n",
    "\n",
    "even_numbers = random_array[random_array % 2 == 0]\n",
    "print(even_numbers)"
   ]
  },
  {
   "cell_type": "code",
   "execution_count": 154,
   "metadata": {},
   "outputs": [
    {
     "name": "stdout",
     "output_type": "stream",
     "text": [
      "original array:  [1 2 3 4 5]\n",
      "[11 12 13 14 15]\n"
     ]
    }
   ],
   "source": [
    "arr = np.array([1,2,3,4,5])\n",
    "print(\"original array: \", arr)\n",
    "\n",
    "result = arr + 10\n",
    "print(result)"
   ]
  },
  {
   "cell_type": "code",
   "execution_count": 155,
   "metadata": {},
   "outputs": [
    {
     "name": "stdout",
     "output_type": "stream",
     "text": [
      "(3,)\n",
      "(3, 1)\n",
      "[[11 12 13]\n",
      " [21 22 23]\n",
      " [31 32 33]]\n",
      "(3, 3)\n"
     ]
    }
   ],
   "source": [
    "a = np.array([1,2,3])\n",
    "b = np.array([[10], [20], [30]])\n",
    "print(a.shape)\n",
    "print(b.shape)\n",
    "\n",
    "broadcast_result = a + b\n",
    "print(broadcast_result)\n",
    "print(broadcast_result.shape)\n",
    "\n"
   ]
  },
  {
   "cell_type": "code",
   "execution_count": 156,
   "metadata": {},
   "outputs": [
    {
     "name": "stdout",
     "output_type": "stream",
     "text": [
      "View before modification:  [2 3]\n",
      "View after modification: [99  3]\n",
      "Original [ 1 99  3  4]\n",
      "Copy before modification:  [99  3]\n",
      "Copy after modification:  [43  3]\n",
      "original:  [ 1 99  3  4]\n"
     ]
    }
   ],
   "source": [
    "# views vs copies\n",
    "original = np.array([1,2,3,4])\n",
    "\n",
    "view = original[1:3]\n",
    "print(\"View before modification: \", view)\n",
    "\n",
    "view[0] = 99\n",
    "print(\"View after modification:\", view)\n",
    "\n",
    "print(\"Original\", original)\n",
    "\n",
    "copy = original[1:3].copy()\n",
    "print(\"Copy before modification: \", copy)\n",
    "\n",
    "copy[0] = 43\n",
    "print(\"Copy after modification: \", copy)\n",
    "\n",
    "print(\"original: \", original)\n"
   ]
  },
  {
   "cell_type": "code",
   "execution_count": 157,
   "metadata": {},
   "outputs": [
    {
     "name": "stdout",
     "output_type": "stream",
     "text": [
      "Element [0, 1]: 20\n",
      "First row:  [10 20 30]\n",
      "Second column:  [20 50 80]\n",
      "Sub matrix:  [[50 60]\n",
      " [80 90]]\n"
     ]
    }
   ],
   "source": [
    "# advanced indexing\n",
    "matrix = np.array([[10, 20, 30],\n",
    "                   [40, 50, 60],\n",
    "                   [70, 80, 90]])\n",
    "\n",
    "# Access element at row 1, column 2\n",
    "print(\"Element [0, 1]:\", matrix[0, 1])\n",
    "\n",
    "# Extract a speicif row\n",
    "print(\"First row: \", matrix[0, :])\n",
    "\n",
    "# Extract a specific column\n",
    "print(\"Second column: \", matrix[:, 1])\n",
    "\n",
    "# Extract a sub matrix \n",
    "print(\"Sub matrix: \", matrix[1:3, 1:])\n"
   ]
  },
  {
   "cell_type": "code",
   "execution_count": 158,
   "metadata": {},
   "outputs": [
    {
     "name": "stdout",
     "output_type": "stream",
     "text": [
      "Boolean mask:\n",
      " [[False False False]\n",
      " [False False  True]\n",
      " [ True  True  True]]\n",
      "Filtered elems:  [60 70 80 90]\n"
     ]
    }
   ],
   "source": [
    "# boolean masking\n",
    "\n",
    "mask = matrix > 50\n",
    "print(\"Boolean mask:\\n\", mask)\n",
    "\n",
    "filtered = matrix[mask]\n",
    "print(\"Filtered elems: \", filtered)\n"
   ]
  },
  {
   "cell_type": "code",
   "execution_count": 159,
   "metadata": {},
   "outputs": [
    {
     "name": "stdout",
     "output_type": "stream",
     "text": [
      "Matrix Multiplication:\n",
      " [[19 22]\n",
      " [43 50]]\n",
      "Transpose [[1 3]\n",
      " [2 4]]\n"
     ]
    }
   ],
   "source": [
    "# linear alg ops\n",
    "\n",
    "A = np.array([\n",
    "  [1,2], \n",
    "  [3,4]\n",
    "])\n",
    "\n",
    "B = np.array([\n",
    "  [5,6],\n",
    "  [7,8]\n",
    "])\n",
    "\n",
    "C = np.dot(A, B)\n",
    "print(\"Matrix Multiplication:\\n\", C)\n",
    "\n",
    "print(\"Transpose\", A.T)"
   ]
  },
  {
   "cell_type": "code",
   "execution_count": 160,
   "metadata": {},
   "outputs": [
    {
     "name": "stdout",
     "output_type": "stream",
     "text": [
      "float arr:  <class 'numpy.float64'>\n",
      "String_arry <class 'numpy.str_'>\n"
     ]
    }
   ],
   "source": [
    "# Data type manipulation\n",
    "arr = np.array([1,2,3])\n",
    "\n",
    "float_arr = arr.astype(float)\n",
    "print(\"float arr: \", type(float_arr[0]))\n",
    "str_arr = arr.astype(str)\n",
    "print(\"String_arry\", type(str_arr[0]))"
   ]
  },
  {
   "cell_type": "code",
   "execution_count": 161,
   "metadata": {},
   "outputs": [
    {
     "name": "stdout",
     "output_type": "stream",
     "text": [
      "C-Order Array:\n",
      " [[1 2]\n",
      " [3 4]]\n",
      "F-Order Array:\n",
      " [[1 2]\n",
      " [3 4]]\n"
     ]
    }
   ],
   "source": [
    "# you can control how arrays are stored in memory, there are tow ways, c order row major and f order which i s column major\n",
    "\n",
    "# Create an array with C-order (row-major)\n",
    "c_order = np.array([[1, 2], [3, 4]], order='C')\n",
    "print(\"C-Order Array:\\n\", c_order)\n",
    "\n",
    "# Create an array with F-order (column-major)\n",
    "f_order = np.array([[1, 2], [3, 4]], order='F')\n",
    "print(\"F-Order Array:\\n\", f_order)"
   ]
  },
  {
   "cell_type": "code",
   "execution_count": 162,
   "metadata": {},
   "outputs": [
    {
     "name": "stdout",
     "output_type": "stream",
     "text": [
      "[[ 0  1  2  3]\n",
      " [ 4  5  6  7]\n",
      " [ 8  9 10 11]]\n",
      "[ 0  1  2  3  4  5  6  7  8  9 10 11]\n"
     ]
    }
   ],
   "source": [
    "# reshaping and flattening\n",
    "\n",
    "arr = np.arange(12)\n",
    "\n",
    "#reshape into 3*4\n",
    "reshaped = arr.reshape(3, 4)\n",
    "print(reshaped)\n",
    "\n",
    "\n",
    "#flatten back into 1D\n",
    "flattened = reshaped.flatten()\n",
    "print(flattened)"
   ]
  },
  {
   "cell_type": "code",
   "execution_count": 163,
   "metadata": {},
   "outputs": [
    {
     "name": "stdout",
     "output_type": "stream",
     "text": [
      "150\n",
      "30.0\n",
      "30.0\n",
      "14.142135623730951\n"
     ]
    }
   ],
   "source": [
    "arr = np.array([10,20,30,40,50])\n",
    "\n",
    "print(np.sum(arr))\n",
    "print(np.mean(arr))\n",
    "print(np.median(arr))\n",
    "print(np.std(arr))"
   ]
  },
  {
   "cell_type": "code",
   "execution_count": 164,
   "metadata": {},
   "outputs": [
    {
     "name": "stdout",
     "output_type": "stream",
     "text": [
      "original_arr [[21 34 61 72]\n",
      " [11 65  8 84]\n",
      " [12 24  0 49]\n",
      " [72 53 24 93]]\n"
     ]
    }
   ],
   "source": [
    "# practice tasks\n",
    "arr = np.random.randint(0, 100, size=(4,4))\n",
    "print(\"original_arr\", arr)\n"
   ]
  },
  {
   "cell_type": "code",
   "execution_count": 165,
   "metadata": {},
   "outputs": [
    {
     "name": "stdout",
     "output_type": "stream",
     "text": [
      "Last column [72 84 49 93]\n"
     ]
    }
   ],
   "source": [
    "last_column = arr[: , 3]\n",
    "print(\"Last column\", last_column)"
   ]
  },
  {
   "cell_type": "code",
   "execution_count": 166,
   "metadata": {},
   "outputs": [
    {
     "name": "stdout",
     "output_type": "stream",
     "text": [
      "mean of the entire array:  42.6875\n"
     ]
    }
   ],
   "source": [
    "print(\"mean of the entire array: \", np.mean(arr))\n"
   ]
  },
  {
   "cell_type": "code",
   "execution_count": 168,
   "metadata": {},
   "outputs": [
    {
     "name": "stdout",
     "output_type": "stream",
     "text": [
      "[[72 53 24 93]\n",
      " [12 24  0 49]\n",
      " [11 65  8 84]\n",
      " [21 34 61 72]]\n"
     ]
    }
   ],
   "source": [
    "row_reversed_array = arr[::-1, :]\n",
    "print(row_reversed_array)"
   ]
  },
  {
   "cell_type": "code",
   "execution_count": 170,
   "metadata": {},
   "outputs": [
    {
     "data": {
      "text/plain": [
       "array([[[40, 23, 44],\n",
       "        [ 4, 21, 82],\n",
       "        [25, 19, 87]],\n",
       "\n",
       "       [[23, 53, 62],\n",
       "        [47, 49, 32],\n",
       "        [47, 36, 33]],\n",
       "\n",
       "       [[94, 31,  1],\n",
       "        [82, 29, 50],\n",
       "        [20, 27, 83]]], dtype=int32)"
      ]
     },
     "execution_count": 170,
     "metadata": {},
     "output_type": "execute_result"
    }
   ],
   "source": [
    "y = np.random.randint(0, 100, size=(3,3,3))\n",
    "y\n"
   ]
  },
  {
   "cell_type": "code",
   "execution_count": 175,
   "metadata": {},
   "outputs": [
    {
     "name": "stdout",
     "output_type": "stream",
     "text": [
      "[[157 107 107]\n",
      " [133  99 164]\n",
      " [ 92  82 203]]\n",
      "[[157 107 107]\n",
      " [133  99 164]\n",
      " [ 92  82 203]]\n",
      "[[157 107 107]\n",
      " [133  99 164]\n",
      " [ 92  82 203]]\n",
      "[40 23 44  4 21 82 25 19 87 23 53 62 47 49 32 47 36 33 94 31  1 82 29 50\n",
      " 20 27 83]\n"
     ]
    }
   ],
   "source": [
    "sum0 = np.sum(y, axis=0)\n",
    "print(sum0)\n",
    "sum1 = np.sum(y, axis=1)\n",
    "print(sum0)\n",
    "sum2 = np.sum(y, axis=2)\n",
    "print(sum0)\n",
    "\n",
    "\n",
    "flattened = y.flatten()\n",
    "print(flattened)"
   ]
  },
  {
   "cell_type": "code",
   "execution_count": null,
   "metadata": {},
   "outputs": [],
   "source": []
  }
 ],
 "metadata": {
  "kernelspec": {
   "display_name": ".venv",
   "language": "python",
   "name": "python3"
  },
  "language_info": {
   "codemirror_mode": {
    "name": "ipython",
    "version": 3
   },
   "file_extension": ".py",
   "mimetype": "text/x-python",
   "name": "python",
   "nbconvert_exporter": "python",
   "pygments_lexer": "ipython3",
   "version": "3.13.0"
  }
 },
 "nbformat": 4,
 "nbformat_minor": 2
}
